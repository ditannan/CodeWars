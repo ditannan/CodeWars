{
 "cells": [
  {
   "cell_type": "markdown",
   "metadata": {},
   "source": [
    "# 将字符串向量排序,然后把第一个字符串用***分隔\n",
    "\n",
    "## 题目level\n",
    "- 8kyu\n",
    "\n",
    "## 题目描述\n",
    "- rt\n",
    "-例子\n",
    "> [\"bitcoin\", \"take\", \"over\", \"the\", \"world\", \"maybe\", \"who\", \"knows\", \"perhaps\"] -> 'b\\*\\*\\*i\\*\\*\\*t\\*\\*\\*c\\*\\*\\*o\\*\\*\\*i\\*\\*\\*n'\n",
    "\n",
    "## 解题思路\n",
    "- 排序后取第一个元素,再用\\*\\*\\*相连\n",
    "\n",
    "## 解题代码"
   ]
  },
  {
   "cell_type": "code",
   "execution_count": 3,
   "metadata": {},
   "outputs": [],
   "source": [
    "def two_sort(array):\n",
    "    return '***'.join(s for s in sorted(array)[0])"
   ]
  },
  {
   "cell_type": "code",
   "execution_count": 4,
   "metadata": {},
   "outputs": [
    {
     "data": {
      "text/plain": [
       "'b***i***t***c***o***i***n'"
      ]
     },
     "execution_count": 4,
     "metadata": {},
     "output_type": "execute_result"
    }
   ],
   "source": [
    "two_sort([\"bitcoin\", \"take\", \"over\", \"the\", \"world\", \"maybe\", \"who\", \"knows\", \"perhaps\"])"
   ]
  },
  {
   "cell_type": "markdown",
   "metadata": {},
   "source": [
    "- 别人家孩子代码"
   ]
  },
  {
   "cell_type": "code",
   "execution_count": null,
   "metadata": {},
   "outputs": [],
   "source": [
    "def two_sort(lst):\n",
    "    return '***'.join(min(lst))"
   ]
  }
 ],
 "metadata": {
  "kernelspec": {
   "display_name": "Python 3",
   "language": "python",
   "name": "python3"
  },
  "language_info": {
   "codemirror_mode": {
    "name": "ipython",
    "version": 3
   },
   "file_extension": ".py",
   "mimetype": "text/x-python",
   "name": "python",
   "nbconvert_exporter": "python",
   "pygments_lexer": "ipython3",
   "version": "3.6.4"
  }
 },
 "nbformat": 4,
 "nbformat_minor": 2
}
