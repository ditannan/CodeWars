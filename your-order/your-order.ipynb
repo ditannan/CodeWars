{
 "cells": [
  {
   "cell_type": "markdown",
   "metadata": {},
   "source": [
    "# 根据字符串中包含的数字将字符串进行排序\n",
    "\n",
    "## 题目level\n",
    "- 6kyu\n",
    "\n",
    "## 题目描述\n",
    "- Your task is to sort a given string. Each word in the String will contain a single number. This number is the position the word should have in the result.\n",
    "If the input String is empty, return an empty String. The words in the input String will only contain valid consecutive numbers.\n",
    "For an input: \"is2 Thi1s T4est 3a\" the function should return \"Thi1s is2 3a T4est\"\n",
    "\n",
    "- 举例\n",
    "\n",
    "your_order(\"is2 Thi1s T4est 3a\")\n",
    "\n",
    "[1] \"Thi1s is2 3a T4est\"\n",
    "\n",
    "## 解题思路\n",
    "- 先将句子拆分成不同的字符\n",
    "- 再定义提取字符串中数字的函数；\n",
    "- 使用`str.sort()`函数将提取数字函数作为参数`key`\n",
    "\n",
    "## 解题代码"
   ]
  },
  {
   "cell_type": "code",
   "execution_count": 17,
   "metadata": {},
   "outputs": [],
   "source": [
    "import pandas as pd\n",
    "def order(sentence):\n",
    "    \"\"\"根据字符串中包含的数字将字符串进行排序\"\"\"\n",
    "    \n",
    "    # 如果句子为空，则返回空字符串\n",
    "    if sentence == '':\n",
    "        return ''\n",
    "    sentence_split = sentence.split()\n",
    "    \n",
    "    # 定义提取字符串数字函数\n",
    "    def get_num(string):\n",
    "        return pd.Series(string).str.extract(r'(\\d)', expand = False)[0]\n",
    "    \n",
    "    # 将原句子列表排序\n",
    "    sentence_split.sort(key = get_num)\n",
    "    \n",
    "    # 将排好序的组合回句子\n",
    "    sentence_sorted = ' '.join(sentence_split)\n",
    "    \n",
    "    return sentence_sorted"
   ]
  },
  {
   "cell_type": "code",
   "execution_count": 18,
   "metadata": {},
   "outputs": [
    {
     "data": {
      "text/plain": [
       "'Thi1s is2 3a T4est'"
      ]
     },
     "execution_count": 18,
     "metadata": {},
     "output_type": "execute_result"
    }
   ],
   "source": [
    "order(\"is2 Thi1s T4est 3a\")"
   ]
  },
  {
   "cell_type": "code",
   "execution_count": 30,
   "metadata": {},
   "outputs": [],
   "source": [
    "def order2(sentence):   \n",
    "    \"\"\"根据字符串中包含的数字将字符串进行排序\"\"\"\n",
    "    \n",
    "    # 如果句子为空，则返回空字符串\n",
    "    if sentence == '':\n",
    "        return ''\n",
    "    sentence_split = sentence.split()    \n",
    "\n",
    "    # 定义提取字符串数字函数\n",
    "    def get_num(string):\n",
    "        return [int(s) for s in string if s.isdigit()]\n",
    "   \n",
    "    # 将原句子列表排序\n",
    "    sentence_split.sort(key = get_num)  \n",
    "    # 将排好序的组合回句子\n",
    "    sentence_sorted = ' '.join(sentence_split)\n",
    "    \n",
    "    return sentence_sorted"
   ]
  },
  {
   "cell_type": "code",
   "execution_count": 31,
   "metadata": {},
   "outputs": [
    {
     "data": {
      "text/plain": [
       "'Thi1s is2 3a T4est'"
      ]
     },
     "execution_count": 31,
     "metadata": {},
     "output_type": "execute_result"
    }
   ],
   "source": [
    "order2(\"is2 Thi1s T4est 3a\")"
   ]
  }
 ],
 "metadata": {
  "kernelspec": {
   "display_name": "Python 3",
   "language": "python",
   "name": "python3"
  },
  "language_info": {
   "codemirror_mode": {
    "name": "ipython",
    "version": 3
   },
   "file_extension": ".py",
   "mimetype": "text/x-python",
   "name": "python",
   "nbconvert_exporter": "python",
   "pygments_lexer": "ipython3",
   "version": "3.6.4"
  }
 },
 "nbformat": 4,
 "nbformat_minor": 2
}
