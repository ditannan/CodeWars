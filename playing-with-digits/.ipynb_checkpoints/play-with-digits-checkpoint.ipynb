{
 "cells": [
  {
   "cell_type": "markdown",
   "metadata": {},
   "source": [
    "# 有趣的数字\n",
    "\n",
    "## 题目level\n",
    "- 6kyu\n",
    "\n",
    "## 题目描述\n",
    "有些数字有一些有趣的特性,比如:\n",
    "> 89 --> 8¹ + 9² = 89 * 1\n",
    "\n",
    "> 695 --> 6² + 9³ + 5⁴= 1390 = 695 * 2\n",
    "\n",
    "> 46288 --> 4³ + 6⁴+ 2⁵ + 8⁶ + 8⁷ = 2360688 = 46288 * 51\n",
    "\n",
    "如果给定一个数字n,表示为abcd...,和一个开始的次方数p,问是否存在 \n",
    ">(a ^ p + b ^ (p+1) + c ^(p+2) + d ^ (p+3) + ...) = n * k\n",
    "\n",
    "如果存在则返回k,否则返回-1.\n",
    "\n",
    "## 解题思路\n",
    "- 先根据给的数字abcd...和p求出(a ^ p + b ^ (p+1) + c ^(p+2) + d ^ (p+3) + ...)的值;\n",
    "- 求上述结果配对为字典后再列表解析求;\n",
    "- 判断所得到的值是否可以整除abcd...,可以的话返回商,否则返回-1.\n",
    "\n",
    "## 解题代码"
   ]
  },
  {
   "cell_type": "code",
   "execution_count": 1,
   "metadata": {},
   "outputs": [],
   "source": [
    "def dig_pow(n, p):\n",
    "    \n",
    "    # 将n,p进行配对\n",
    "    np = list(zip([int(n0) for n0 in str(n)], list(range(p, p + len(str(n))))))\n",
    "    # 求出(a ^ p + b ^ (p+1) + c ^(p+2) + d ^ (p+3) + ...)的值\n",
    "    np_sum = sum([k[0]**k[1] for k in np])\n",
    "    \n",
    "    # 判断是否为n的倍数\n",
    "    if np_sum%n == 0:\n",
    "        return np_sum//n\n",
    "    else:\n",
    "        return -1"
   ]
  },
  {
   "cell_type": "code",
   "execution_count": 2,
   "metadata": {},
   "outputs": [
    {
     "data": {
      "text/plain": [
       "51"
      ]
     },
     "execution_count": 2,
     "metadata": {},
     "output_type": "execute_result"
    }
   ],
   "source": [
    "dig_pow(46288, 3)"
   ]
  },
  {
   "cell_type": "code",
   "execution_count": 3,
   "metadata": {},
   "outputs": [
    {
     "data": {
      "text/plain": [
       "-1"
      ]
     },
     "execution_count": 3,
     "metadata": {},
     "output_type": "execute_result"
    }
   ],
   "source": [
    "dig_pow(92, 1)"
   ]
  },
  {
   "cell_type": "markdown",
   "metadata": {},
   "source": [
    "## 踩坑\n",
    "在将n和p进行配对时,首先考虑的是用字典配对,想通过字典的`key**value`得到,但是因为n中可能有重复数字所以不能成功,在写下这个的时候,那只要把后面的次方p作为字典的key,前面n中的abcd...作为value就可以实现,试一下:"
   ]
  },
  {
   "cell_type": "code",
   "execution_count": 4,
   "metadata": {},
   "outputs": [],
   "source": [
    "def dig_pow2(n, p):\n",
    "    \n",
    "    # 将n,p进行配对\n",
    "    np = dict(zip(list(range(p, p + len(str(n)))), [int(n0) for n0 in str(n)]))\n",
    "    # 求出(a ^ p + b ^ (p+1) + c ^(p+2) + d ^ (p+3) + ...)的值\n",
    "    np_sum = sum([v**k for k,v in np.items()])\n",
    "    \n",
    "    # 判断是否为n的倍数\n",
    "    if np_sum%n == 0:\n",
    "        return np_sum//n\n",
    "    else:\n",
    "        return -1"
   ]
  },
  {
   "cell_type": "code",
   "execution_count": 5,
   "metadata": {},
   "outputs": [
    {
     "data": {
      "text/plain": [
       "51"
      ]
     },
     "execution_count": 5,
     "metadata": {},
     "output_type": "execute_result"
    }
   ],
   "source": [
    "dig_pow2(46288, 3)"
   ]
  },
  {
   "cell_type": "code",
   "execution_count": 6,
   "metadata": {},
   "outputs": [
    {
     "data": {
      "text/plain": [
       "-1"
      ]
     },
     "execution_count": 6,
     "metadata": {},
     "output_type": "execute_result"
    }
   ],
   "source": [
    "dig_pow2(92, 1)"
   ]
  },
  {
   "cell_type": "markdown",
   "metadata": {},
   "source": [
    "## 别人家的代码\n",
    "别人家的孩子真的很厉害..."
   ]
  },
  {
   "cell_type": "code",
   "execution_count": 7,
   "metadata": {},
   "outputs": [],
   "source": [
    "def dig_pow(n, p):\n",
    "  s = 0\n",
    "  for i,c in enumerate(str(n)):\n",
    "     s += pow(int(c),p+i)\n",
    "  return s/n if s%n==0 else -1"
   ]
  }
 ],
 "metadata": {
  "kernelspec": {
   "display_name": "Python 3",
   "language": "python",
   "name": "python3"
  },
  "language_info": {
   "codemirror_mode": {
    "name": "ipython",
    "version": 3
   },
   "file_extension": ".py",
   "mimetype": "text/x-python",
   "name": "python",
   "nbconvert_exporter": "python",
   "pygments_lexer": "ipython3",
   "version": "3.6.4"
  }
 },
 "nbformat": 4,
 "nbformat_minor": 2
}
