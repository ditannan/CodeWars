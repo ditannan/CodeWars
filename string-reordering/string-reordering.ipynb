{
 "cells": [
  {
   "cell_type": "markdown",
   "metadata": {},
   "source": [
    "# 将l列表中字典中的值按照键的顺序组合\n",
    "\n",
    "## 题目level\n",
    "- 7kyu\n",
    "\n",
    "## 题目描述\n",
    "- rt\n",
    "- 例子\n",
    "\n",
    "> Input:\n",
    "\n",
    "> List = [\n",
    "\n",
    ">        {'4': 'dog' }, {'2': 'took'}, {'3': 'his'},\n",
    "\n",
    ">        {'-2': 'Vatsan'}, {'5': 'for'}, {'6': 'a'}, {'12': 'spin'}\n",
    "\n",
    ">       ]\n",
    "\n",
    "> Output:\n",
    "\n",
    "> 'Vatsan took his dog for a spin'\n",
    "\n",
    "## 解题思路\n",
    "- 先排序,再组合;\n",
    "\n",
    "## 解题代码"
   ]
  },
  {
   "cell_type": "code",
   "execution_count": 28,
   "metadata": {},
   "outputs": [],
   "source": [
    "def sentence(lst):\n",
    "    lst.sort(key = lambda d: int(list(d)[0]))\n",
    "    return ' '.join(list(d.values())[0] for d in lst)"
   ]
  },
  {
   "cell_type": "code",
   "execution_count": 29,
   "metadata": {},
   "outputs": [
    {
     "data": {
      "text/plain": [
       "'Vatsan took his dog for a spin'"
      ]
     },
     "execution_count": 29,
     "metadata": {},
     "output_type": "execute_result"
    }
   ],
   "source": [
    "lst = [{'4': 'dog' }, {'2': 'took'}, {'3': 'his'}, {'-2': 'Vatsan'}, {'5': 'for'}, {'6': 'a'}, {'12': 'spin'}]\n",
    "sentence(lst)"
   ]
  },
  {
   "cell_type": "markdown",
   "metadata": {},
   "source": [
    "- 别人家孩子的代码"
   ]
  },
  {
   "cell_type": "code",
   "execution_count": null,
   "metadata": {},
   "outputs": [],
   "source": [
    "def sentence(ds):\n",
    "    return ' '.join(v for _, v in sorted((int(k), v) for d in ds for k, v in d.items()))"
   ]
  }
 ],
 "metadata": {
  "kernelspec": {
   "display_name": "Python 3",
   "language": "python",
   "name": "python3"
  },
  "language_info": {
   "codemirror_mode": {
    "name": "ipython",
    "version": 3
   },
   "file_extension": ".py",
   "mimetype": "text/x-python",
   "name": "python",
   "nbconvert_exporter": "python",
   "pygments_lexer": "ipython3",
   "version": "3.6.4"
  }
 },
 "nbformat": 4,
 "nbformat_minor": 2
}
