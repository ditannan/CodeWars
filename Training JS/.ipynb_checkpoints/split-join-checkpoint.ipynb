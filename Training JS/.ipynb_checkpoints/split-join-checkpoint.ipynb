{
 "cells": [
  {
   "cell_type": "markdown",
   "metadata": {},
   "source": [
    "# 拆分与连接字符\n",
    "\n",
    "## 题目level\n",
    "- 8kyu\n",
    "\n",
    "## 题目描述\n",
    "- 将字符串以给定字符进行连接\n",
    "- 例子\n",
    "\n",
    "> split_and_merge(\"My name is John\",\" \") --> \"M y n a m e i s J o h n\" \n",
    "\n",
    "> split_and_merge(\"My name is John\",\"-\") --> \"M-y n-a-m-e i-s J-o-h-n\" \n",
    "\n",
    "> split_and_merge(\"Hello World!\",\".\") --> \"H.e.l.l.o W.o.r.l.d.!\" \n",
    "\n",
    "> split_and_merge(\"Hello World!\",\",\") --> \"H,e,l,l,o W,o,r,l,d,!\"\n",
    "\n",
    "## 解题思路\n",
    "- 先使用.split()再.join()\n",
    "\n",
    "## 解题代码"
   ]
  },
  {
   "cell_type": "code",
   "execution_count": 18,
   "metadata": {},
   "outputs": [],
   "source": [
    "def split_and_merge(string, sp):\n",
    "    return ' '.join(sp.join(s for s in st) for st in string.split())"
   ]
  },
  {
   "cell_type": "code",
   "execution_count": 19,
   "metadata": {},
   "outputs": [
    {
     "data": {
      "text/plain": [
       "'M y n a m e i s J o h n'"
      ]
     },
     "execution_count": 19,
     "metadata": {},
     "output_type": "execute_result"
    }
   ],
   "source": [
    "split_and_merge(\"My name is John\",\" \")"
   ]
  },
  {
   "cell_type": "code",
   "execution_count": 20,
   "metadata": {},
   "outputs": [
    {
     "data": {
      "text/plain": [
       "'M-y n-a-m-e i-s J-o-h-n'"
      ]
     },
     "execution_count": 20,
     "metadata": {},
     "output_type": "execute_result"
    }
   ],
   "source": [
    "split_and_merge(\"My name is John\",\"-\") "
   ]
  },
  {
   "cell_type": "code",
   "execution_count": 21,
   "metadata": {},
   "outputs": [
    {
     "data": {
      "text/plain": [
       "'H.e.l.l.o W.o.r.l.d.!'"
      ]
     },
     "execution_count": 21,
     "metadata": {},
     "output_type": "execute_result"
    }
   ],
   "source": [
    "split_and_merge(\"Hello World!\",\".\")"
   ]
  },
  {
   "cell_type": "code",
   "execution_count": 22,
   "metadata": {},
   "outputs": [
    {
     "data": {
      "text/plain": [
       "'H,e,l,l,o W,o,r,l,d,!'"
      ]
     },
     "execution_count": 22,
     "metadata": {},
     "output_type": "execute_result"
    }
   ],
   "source": [
    "split_and_merge(\"Hello World!\",\",\")"
   ]
  },
  {
   "cell_type": "markdown",
   "metadata": {},
   "source": [
    "- 别人家代码\n"
   ]
  },
  {
   "cell_type": "code",
   "execution_count": null,
   "metadata": {},
   "outputs": [],
   "source": [
    "def split_and_merge(string, sp):\n",
    "    return ' '.join(sp.join(word) for word in string.split())"
   ]
  }
 ],
 "metadata": {
  "kernelspec": {
   "display_name": "Python 3",
   "language": "python",
   "name": "python3"
  },
  "language_info": {
   "codemirror_mode": {
    "name": "ipython",
    "version": 3
   },
   "file_extension": ".py",
   "mimetype": "text/x-python",
   "name": "python",
   "nbconvert_exporter": "python",
   "pygments_lexer": "ipython3",
   "version": "3.6.4"
  }
 },
 "nbformat": 4,
 "nbformat_minor": 2
}
