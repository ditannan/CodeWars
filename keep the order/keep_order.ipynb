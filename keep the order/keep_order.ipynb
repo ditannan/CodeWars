{
 "cells": [
  {
   "cell_type": "markdown",
   "metadata": {},
   "source": [
    "# 返回可以插入的位置\n",
    "\n",
    "## 题目level\n",
    "-7kyu\n",
    "\n",
    "## 题目描述\n",
    "- 有一个按升序排好的数组和另外一个数字,将数字插入数组中,数组仍然按升序排序,求插入位置的最小值;\n",
    "- 例子\n",
    "\n",
    "> keep_order([1, 2, 3, 4, 7], 5) #=> 4\n",
    "  \n",
    ">                 ^(index 4)\n",
    "\n",
    "> keep_order([1, 2, 3, 4, 7], 0) #=> 0\n",
    "\n",
    ">          ^(index 0)\n",
    "\n",
    "> keep_order([1, 1, 2, 2, 2], 2) #=> 2\n",
    "\n",
    ">              ^(index 2)\n",
    "\n",
    "## 解题思路\n",
    "- 寻找数组中小于给定数字并索引最大的位置加1;\n",
    "- 如果没有比它小的就返回0;\n",
    "\n",
    "## 解题代码"
   ]
  },
  {
   "cell_type": "code",
   "execution_count": 24,
   "metadata": {},
   "outputs": [],
   "source": [
    "def keep_order(ary, val):\n",
    "    if ary != []:\n",
    "        return [ind for ind, value in enumerate(ary) if value < val][-1] + 1 if ary[0] < val else 0\n",
    "    else:\n",
    "        return 0"
   ]
  },
  {
   "cell_type": "code",
   "execution_count": 17,
   "metadata": {},
   "outputs": [
    {
     "data": {
      "text/plain": [
       "4"
      ]
     },
     "execution_count": 17,
     "metadata": {},
     "output_type": "execute_result"
    }
   ],
   "source": [
    "keep_order([1, 2, 3, 4, 7], 5) "
   ]
  },
  {
   "cell_type": "code",
   "execution_count": 18,
   "metadata": {},
   "outputs": [
    {
     "data": {
      "text/plain": [
       "2"
      ]
     },
     "execution_count": 18,
     "metadata": {},
     "output_type": "execute_result"
    }
   ],
   "source": [
    "keep_order([1, 1, 2, 2, 2], 2) "
   ]
  },
  {
   "cell_type": "code",
   "execution_count": 19,
   "metadata": {},
   "outputs": [
    {
     "data": {
      "text/plain": [
       "0"
      ]
     },
     "execution_count": 19,
     "metadata": {},
     "output_type": "execute_result"
    }
   ],
   "source": [
    "keep_order([1, 2, 3, 4, 7], 0) "
   ]
  },
  {
   "cell_type": "code",
   "execution_count": 26,
   "metadata": {},
   "outputs": [
    {
     "data": {
      "text/plain": [
       "0"
      ]
     },
     "execution_count": 26,
     "metadata": {},
     "output_type": "execute_result"
    }
   ],
   "source": [
    "keep_order([], 2)"
   ]
  },
  {
   "cell_type": "markdown",
   "metadata": {},
   "source": [
    "- 别人家的代码"
   ]
  },
  {
   "cell_type": "code",
   "execution_count": null,
   "metadata": {},
   "outputs": [],
   "source": [
    "from bisect import bisect_left as keep_order"
   ]
  }
 ],
 "metadata": {
  "kernelspec": {
   "display_name": "Python 3",
   "language": "python",
   "name": "python3"
  },
  "language_info": {
   "codemirror_mode": {
    "name": "ipython",
    "version": 3
   },
   "file_extension": ".py",
   "mimetype": "text/x-python",
   "name": "python",
   "nbconvert_exporter": "python",
   "pygments_lexer": "ipython3",
   "version": "3.6.4"
  }
 },
 "nbformat": 4,
 "nbformat_minor": 2
}
