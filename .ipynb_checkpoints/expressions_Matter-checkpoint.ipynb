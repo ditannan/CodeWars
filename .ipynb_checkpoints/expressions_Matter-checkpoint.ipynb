{
 "cells": [
  {
   "cell_type": "markdown",
   "metadata": {},
   "source": [
    "# 题目\n",
    "\n",
    "- Given three integers a ,b ,c, return the largest number obtained after inserting the following operators and brackets: +, *, ()\n",
    "\n",
    "给定三位整数，用+、*、（）连接，使得到的数最大。\n",
    "\n",
    "**比如**："
   ]
  },
  {
   "cell_type": "markdown",
   "metadata": {},
   "source": [
    "With the numbers are 1, 2 and 3 , here are some ways of placing signs and brackets:\n",
    "\n",
    "1 * (2 + 3) = 5\n",
    "\n",
    "1 * 2 * 3 = 6\n",
    "\n",
    "1 + 2 * 3 = 7\n",
    "\n",
    "(1 + 2) * 3 = 9\n",
    "\n",
    "1 + 2 + 3 = 6\n",
    "\n",
    "So the maximum value that you can obtain is 9."
   ]
  },
  {
   "cell_type": "markdown",
   "metadata": {},
   "source": [
    "## 结题思路\n",
    "- 如果给的三个数都大于1，那要得到最大的结果，就把三个数相乘，因为相乘比相加增加得更大；\n",
    "- 如果有数字为1，最大的数是大于1的，那1只能和另外一个数字相加后再和最大的相乘；\n",
    "- 如果最大数为1，那就三个数都是1了，结果就是3了。\n",
    "\n",
    "## 定义函数"
   ]
  },
  {
   "cell_type": "code",
   "execution_count": 1,
   "metadata": {},
   "outputs": [],
   "source": [
    "def expression_matter(a, b, c):\n",
    "    \"\"\"highest achievable result\"\"\"\n",
    "    \n",
    "    input_list = sorted([a, b, c])\n",
    "\n",
    "    if input_list[0] > 1:\n",
    "        highest_result = input_list[0] * input_list[1] * input_list[2]\n",
    "    elif input_list[0] == 1 and input_list[2] > 1:\n",
    "        highest_result = (input_list[0] + input_list[1]) * input_list[2]\n",
    "    else:\n",
    "        highest_result = 3\n",
    "    \n",
    "    return highest_result"
   ]
  },
  {
   "cell_type": "markdown",
   "metadata": {},
   "source": [
    "## 测试\n",
    "\n",
    "<img src = \"pass-expressions-matter.jpg\">"
   ]
  }
 ],
 "metadata": {
  "kernelspec": {
   "display_name": "Python 3",
   "language": "python",
   "name": "python3"
  },
  "language_info": {
   "codemirror_mode": {
    "name": "ipython",
    "version": 3
   },
   "file_extension": ".py",
   "mimetype": "text/x-python",
   "name": "python",
   "nbconvert_exporter": "python",
   "pygments_lexer": "ipython3",
   "version": "3.6.4"
  }
 },
 "nbformat": 4,
 "nbformat_minor": 2
}
