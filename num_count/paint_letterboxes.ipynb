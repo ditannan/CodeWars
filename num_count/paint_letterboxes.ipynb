{
 "cells": [
  {
   "cell_type": "markdown",
   "metadata": {},
   "source": [
    "# 计算一连串数字中0-9各出现多少次\n",
    "\n",
    "## 题目level\n",
    "-7kyu\n",
    "\n",
    "## 题目描述\n",
    "- 给定开始和结束两个数,计算这中间所有整数中0-9数字出现的次数;\n",
    "- 例子\n",
    "\n",
    "> For start = 125, and end = 132\n",
    "\n",
    "> 125 = 1, 2, 5\n",
    "\n",
    ">  126 = 1, 2, 6\n",
    "  \n",
    ">  127 = 1, 2, 7\n",
    "  \n",
    ">  128 = 1, 2, 8\n",
    "  \n",
    ">  129 = 1, 2, 9\n",
    "  \n",
    ">  130 = 1, 3, 0\n",
    "  \n",
    ">  131 = 1, 3, 1\n",
    "  \n",
    ">  132 = 1, 3, 2\n",
    "\n",
    "> The digit frequencies are 1 x 0, 9 x 1, 6 x 2 etc...\n",
    "\n",
    "> and so the method would return [1,9,6,3,0,1,1,1,1,1]\n",
    "\n",
    "## 解题思路\n",
    "- 将这些数组合,再计数;\n",
    "\n",
    "## 解题代码"
   ]
  },
  {
   "cell_type": "code",
   "execution_count": 17,
   "metadata": {},
   "outputs": [],
   "source": [
    "def paint_letterboxes(start, finish):\n",
    "    return [''.join(str(i) for i in range(start, finish + 1)).count(n) for n in '0123456789']"
   ]
  },
  {
   "cell_type": "code",
   "execution_count": 18,
   "metadata": {},
   "outputs": [
    {
     "data": {
      "text/plain": [
       "[1, 9, 6, 3, 0, 1, 1, 1, 1, 1]"
      ]
     },
     "execution_count": 18,
     "metadata": {},
     "output_type": "execute_result"
    }
   ],
   "source": [
    "paint_letterboxes(125, 132)"
   ]
  },
  {
   "cell_type": "markdown",
   "metadata": {},
   "source": [
    "- 别人家孩子代码"
   ]
  },
  {
   "cell_type": "code",
   "execution_count": null,
   "metadata": {},
   "outputs": [],
   "source": [
    "from collections import Counter\n",
    "\n",
    "def paint_letterboxes(s, f):\n",
    "    a = Counter(\"\".join(map(str, range(s, f+1))))\n",
    "    return [a[x] for x in \"0123456789\"]"
   ]
  }
 ],
 "metadata": {
  "kernelspec": {
   "display_name": "Python 3",
   "language": "python",
   "name": "python3"
  },
  "language_info": {
   "codemirror_mode": {
    "name": "ipython",
    "version": 3
   },
   "file_extension": ".py",
   "mimetype": "text/x-python",
   "name": "python",
   "nbconvert_exporter": "python",
   "pygments_lexer": "ipython3",
   "version": "3.6.4"
  }
 },
 "nbformat": 4,
 "nbformat_minor": 2
}
