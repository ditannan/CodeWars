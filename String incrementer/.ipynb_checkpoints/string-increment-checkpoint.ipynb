{
 "cells": [
  {
   "cell_type": "markdown",
   "metadata": {},
   "source": [
    "# 字符串加1\n",
    "\n",
    "## 题目等级\n",
    "- 5kyu\n",
    "\n",
    "## 题目描述\n",
    "- 如果字符串以数字结尾,则返回对应数字加1后的字符串;\n",
    "- 如果字符串结尾没有数字,则返回字符串后接数字1;\n",
    "\n",
    "- 举例\n",
    " > foo -> foo1\n",
    "\n",
    " > foobar23 -> foobar24\n",
    "\n",
    " > foo0042 -> foo0043\n",
    " \n",
    "## 解题思路\n",
    "- 提取数字加1后再合并;\n",
    "- foo0042怎么变成foo0043呢,foo0099怎么变成foo0100呢???那就保留后面数字的占位长度;\n",
    "\n",
    "## 解题代码"
   ]
  },
  {
   "cell_type": "code",
   "execution_count": 103,
   "metadata": {},
   "outputs": [],
   "source": [
    "def increment_string(strng):\n",
    "    import re\n",
    "    \n",
    "    if strng == '':\n",
    "        return '1'\n",
    "    if strng.isdigit():\n",
    "        return ('%0' + str(len(strng)) + 'd')%(int(strng) + 1)\n",
    "    # 结尾为数字字符\n",
    "    if strng[-1].isdigit():\n",
    "        m = re.match(r'(\\w+[a-zA-Z])(\\d*)', strng)\n",
    "        # 将结尾数字加1\n",
    "        if set(m.group(2)) == {'0'}:\n",
    "            res = strng[:-1] + '1'\n",
    "        else:\n",
    "            new_num = int(m.group(2).lstrip('0')) + 1\n",
    "        # 重新组合\n",
    "            res = m.group(1) + ('%0' + str(len(m.group(2))) + 'd')%new_num\n",
    "    # 结尾不是数字的直接添加1\n",
    "    else:\n",
    "        res = strng + '1'\n",
    "    return res"
   ]
  },
  {
   "cell_type": "code",
   "execution_count": 105,
   "metadata": {},
   "outputs": [
    {
     "data": {
      "text/plain": [
       "'foo1'"
      ]
     },
     "execution_count": 105,
     "metadata": {},
     "output_type": "execute_result"
    }
   ],
   "source": [
    "increment_string('foo')"
   ]
  },
  {
   "cell_type": "code",
   "execution_count": 97,
   "metadata": {},
   "outputs": [
    {
     "data": {
      "text/plain": [
       "'foo0043'"
      ]
     },
     "execution_count": 97,
     "metadata": {},
     "output_type": "execute_result"
    }
   ],
   "source": [
    "increment_string('foo0042')"
   ]
  },
  {
   "cell_type": "code",
   "execution_count": 98,
   "metadata": {},
   "outputs": [
    {
     "data": {
      "text/plain": [
       "'foo01'"
      ]
     },
     "execution_count": 98,
     "metadata": {},
     "output_type": "execute_result"
    }
   ],
   "source": [
    "increment_string('foo00')"
   ]
  },
  {
   "cell_type": "code",
   "execution_count": 99,
   "metadata": {},
   "outputs": [
    {
     "data": {
      "text/plain": [
       "'foo0100'"
      ]
     },
     "execution_count": 99,
     "metadata": {},
     "output_type": "execute_result"
    }
   ],
   "source": [
    "increment_string('foo0099')"
   ]
  },
  {
   "cell_type": "markdown",
   "metadata": {},
   "source": [
    "- 别人家孩子的代码"
   ]
  },
  {
   "cell_type": "code",
   "execution_count": 106,
   "metadata": {},
   "outputs": [],
   "source": [
    "def increment_string(strng):\n",
    "    head = strng.rstrip('0123456789')\n",
    "    tail = strng[len(head):]\n",
    "    if tail == \"\": return strng+\"1\"\n",
    "    return head + str(int(tail) + 1).zfill(len(tail))"
   ]
  },
  {
   "cell_type": "code",
   "execution_count": 107,
   "metadata": {},
   "outputs": [
    {
     "data": {
      "text/plain": [
       "'00100'"
      ]
     },
     "execution_count": 107,
     "metadata": {},
     "output_type": "execute_result"
    }
   ],
   "source": [
    "'100'.zfill(5)"
   ]
  }
 ],
 "metadata": {
  "kernelspec": {
   "display_name": "Python 3",
   "language": "python",
   "name": "python3"
  },
  "language_info": {
   "codemirror_mode": {
    "name": "ipython",
    "version": 3
   },
   "file_extension": ".py",
   "mimetype": "text/x-python",
   "name": "python",
   "nbconvert_exporter": "python",
   "pygments_lexer": "ipython3",
   "version": "3.6.4"
  }
 },
 "nbformat": 4,
 "nbformat_minor": 2
}
