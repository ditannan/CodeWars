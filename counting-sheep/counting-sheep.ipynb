{
 "cells": [
  {
   "cell_type": "markdown",
   "metadata": {},
   "source": [
    "# 计算列表中True的个数\n",
    "\n",
    "## 题目level\n",
    "- 8kyu\n",
    "\n",
    "## 题目描述\n",
    "\n",
    "> Consider an array of sheep where some sheep may be missing from their place. We need a function that counts the number of sheep present in the array (true means present).\n",
    "\n",
    "> For example,\n",
    "\n",
    "```\n",
    "  [True,  True,  True,  False,\n",
    "\n",
    "  True,  True,  True,  True ,\n",
    "\n",
    "  True,  False, True,  False,\n",
    "\n",
    "  True,  False, False, True ,\n",
    "\n",
    "  True,  True,  True,  True ,\n",
    "\n",
    "  False, False, True,  True]\n",
    " ```\n",
    "\n",
    "> The correct answer would be 17.\n",
    "\n",
    "## 解题思路\n",
    "- True代表的是1,False代表的是0,其实就是计算1的个数,直接sum就可以;\n",
    "- 可以使用`.count()`直接计算某个值的个数;"
   ]
  },
  {
   "cell_type": "code",
   "execution_count": 2,
   "metadata": {},
   "outputs": [],
   "source": [
    "def count_sheeps(arrayOfSheeps):\n",
    "  # TODO May the force be with you\n",
    "  return sum(arrayOfSheeps)"
   ]
  },
  {
   "cell_type": "code",
   "execution_count": 3,
   "metadata": {},
   "outputs": [
    {
     "data": {
      "text/plain": [
       "17"
      ]
     },
     "execution_count": 3,
     "metadata": {},
     "output_type": "execute_result"
    }
   ],
   "source": [
    "array1 = [True,  True,  True,  False,\n",
    "          True,  True,  True,  True ,\n",
    "          True,  False, True,  False,\n",
    "          True,  False, False, True ,\n",
    "          True,  True,  True,  True ,\n",
    "          False, False, True,  True ]\n",
    "count_sheeps(array1)"
   ]
  },
  {
   "cell_type": "code",
   "execution_count": 4,
   "metadata": {},
   "outputs": [],
   "source": [
    "def count_sheeps(arrayOfSheeps):\n",
    "  # TODO May the force be with you\n",
    "  return arrayOfSheeps.count(True)"
   ]
  }
 ],
 "metadata": {
  "kernelspec": {
   "display_name": "Python 3",
   "language": "python",
   "name": "python3"
  },
  "language_info": {
   "codemirror_mode": {
    "name": "ipython",
    "version": 3
   },
   "file_extension": ".py",
   "mimetype": "text/x-python",
   "name": "python",
   "nbconvert_exporter": "python",
   "pygments_lexer": "ipython3",
   "version": "3.6.4"
  }
 },
 "nbformat": 4,
 "nbformat_minor": 2
}
