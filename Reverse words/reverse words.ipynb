{
 "cells": [
  {
   "cell_type": "markdown",
   "metadata": {},
   "source": [
    "# 将句子中的单词进行反转\n",
    "\n",
    "## 题目level\n",
    "-7kyu\n",
    "\n",
    "## 题目描述\n",
    "- 一个句子中,将每个单词反转,保留其中的所有空格\n",
    "\n",
    "- 举例\n",
    "> \"This is an example!\" ==> \"sihT si na !elpmaxe\"\n",
    "\n",
    "    > \"double  spaces\"      ==> \"elbuod  secaps\"\n",
    "    \n",
    "## 解题思路\n",
    "- 开始是想提取每个单词然后反转再连在一起,但出现了个问题,就是对于句子中空格长度不一样的不能实现;\n",
    "- 所以,想着就用替换的方式,然后又碰到个问题,如果句子中有两个单词是对称的话,那直接替代句子中就不行;\n",
    "- 所以,还是停下来思考下,要怎样能把空格保留呢,试了下以一个空格`‘ ’`为分隔就行了.\n",
    "\n",
    "## 解题代码"
   ]
  },
  {
   "cell_type": "code",
   "execution_count": 25,
   "metadata": {},
   "outputs": [],
   "source": [
    "def reverse_words(text):\n",
    "    return ' '.join(s[::-1] for s in text.split(' '))"
   ]
  },
  {
   "cell_type": "code",
   "execution_count": 26,
   "metadata": {},
   "outputs": [
    {
     "data": {
      "text/plain": [
       "'should hardocoded a solution. case have is always ishT tests'"
      ]
     },
     "execution_count": 26,
     "metadata": {},
     "output_type": "execute_result"
    }
   ],
   "source": [
    "reverse_words('dluohs dedocodrah a .noitulos esac evah si syawla Thsi stset')"
   ]
  }
 ],
 "metadata": {
  "kernelspec": {
   "display_name": "Python 3",
   "language": "python",
   "name": "python3"
  },
  "language_info": {
   "codemirror_mode": {
    "name": "ipython",
    "version": 3
   },
   "file_extension": ".py",
   "mimetype": "text/x-python",
   "name": "python",
   "nbconvert_exporter": "python",
   "pygments_lexer": "ipython3",
   "version": "3.6.4"
  }
 },
 "nbformat": 4,
 "nbformat_minor": 2
}
