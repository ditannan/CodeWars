{
 "cells": [
  {
   "cell_type": "markdown",
   "metadata": {},
   "source": [
    "# 将数组中奇数进行排序\n",
    "\n",
    "## 题目level\n",
    "- 6kyu\n",
    "\n",
    "## 题目描述\n",
    "- 将一个数组中奇数数进行重新排序,0不是奇数\n",
    "- 例子\n",
    "> sort_array([5, 3, 2, 8, 1, 4]) == [1, 3, 2, 8, 5, 4]\n",
    "\n",
    "## 解题思路\n",
    "- 将奇数的数据取出来,排好序,再放回去!\n",
    "\n",
    "## 解题代码\n",
    "- 我的代码"
   ]
  },
  {
   "cell_type": "code",
   "execution_count": 1,
   "metadata": {},
   "outputs": [],
   "source": [
    "def sort_array(ar):\n",
    "    odd_index = [ind for (ind, val) in enumerate(ar) if val%2 == 1]\n",
    "    sorted_odd = sorted([odd for odd in ar if odd%2 == 1])\n",
    "    j = 0\n",
    "    for i in odd_index:\n",
    "        ar[i] = sorted_odd[j]\n",
    "        j += 1\n",
    "    return ar if ar != [] else []    "
   ]
  },
  {
   "cell_type": "code",
   "execution_count": 2,
   "metadata": {},
   "outputs": [
    {
     "data": {
      "text/plain": [
       "[1, 3, 2, 8, 5, 4]"
      ]
     },
     "execution_count": 2,
     "metadata": {},
     "output_type": "execute_result"
    }
   ],
   "source": [
    "sort_array([5, 3, 2, 8, 1, 4])"
   ]
  },
  {
   "cell_type": "code",
   "execution_count": 3,
   "metadata": {},
   "outputs": [
    {
     "data": {
      "text/plain": [
       "[]"
      ]
     },
     "execution_count": 3,
     "metadata": {},
     "output_type": "execute_result"
    }
   ],
   "source": [
    "sort_array([])"
   ]
  },
  {
   "cell_type": "markdown",
   "metadata": {},
   "source": [
    "- 别人家的代码"
   ]
  },
  {
   "cell_type": "code",
   "execution_count": 4,
   "metadata": {},
   "outputs": [],
   "source": [
    "def sort_array(arr):\n",
    "    odds = sorted((x for x in arr if x%2 != 0), reverse=True)\n",
    "    return [x if x%2==0 else odds.pop() for x in arr]"
   ]
  },
  {
   "cell_type": "markdown",
   "metadata": {},
   "source": [
    "### 解析别人家的代码\n",
    "别人家的代码用到了`.pop()`就是将排好序的数一个一个取出来填充arr中的奇数,完美的解决了我那种先找到奇数的位置,然后用一个递增的索引j放回去."
   ]
  }
 ],
 "metadata": {
  "kernelspec": {
   "display_name": "Python 3",
   "language": "python",
   "name": "python3"
  },
  "language_info": {
   "codemirror_mode": {
    "name": "ipython",
    "version": 3
   },
   "file_extension": ".py",
   "mimetype": "text/x-python",
   "name": "python",
   "nbconvert_exporter": "python",
   "pygments_lexer": "ipython3",
   "version": "3.6.4"
  }
 },
 "nbformat": 4,
 "nbformat_minor": 2
}
