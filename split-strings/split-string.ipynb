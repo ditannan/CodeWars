{
 "cells": [
  {
   "cell_type": "markdown",
   "metadata": {},
   "source": [
    "# 将字符串两两分割\n",
    "\n",
    "## 题目level\n",
    "- 6kyu\n",
    "\n",
    "## 题目描述\n",
    "- rt,奇数时后面接_符号;\n",
    "- 例子\n",
    "\n",
    "> solution('abc') # should return ['ab', 'c_']\n",
    "\n",
    "> solution('abcdef') # should return ['ab', 'cd', 'ef']\n",
    "\n",
    "## 解题思路\n",
    "- 将两两字符提取\n",
    "\n",
    "## 解题代码"
   ]
  },
  {
   "cell_type": "code",
   "execution_count": 45,
   "metadata": {},
   "outputs": [],
   "source": [
    "def solution(s):\n",
    "    if len(s) % 2 is 0:\n",
    "        return [s[2 * n] + s[2 * n + 1] for n in range(0, len(s) // 2)]\n",
    "    else:\n",
    "        res = [s[2 * n] + s[2 * n + 1] for n in range(0, len(s) // 2)]\n",
    "        res.append(s[-1] + '_')\n",
    "        return res"
   ]
  },
  {
   "cell_type": "code",
   "execution_count": 46,
   "metadata": {},
   "outputs": [
    {
     "data": {
      "text/plain": [
       "['ab', 'sf', 'hg']"
      ]
     },
     "execution_count": 46,
     "metadata": {},
     "output_type": "execute_result"
    }
   ],
   "source": [
    "solution('absfhg')"
   ]
  },
  {
   "cell_type": "code",
   "execution_count": 47,
   "metadata": {},
   "outputs": [
    {
     "data": {
      "text/plain": [
       "['x_']"
      ]
     },
     "execution_count": 47,
     "metadata": {},
     "output_type": "execute_result"
    }
   ],
   "source": [
    "solution('x')"
   ]
  },
  {
   "cell_type": "markdown",
   "metadata": {},
   "source": [
    "- 别人家孩子代码"
   ]
  },
  {
   "cell_type": "code",
   "execution_count": 48,
   "metadata": {},
   "outputs": [],
   "source": [
    "import re\n",
    "\n",
    "def solution(s):\n",
    "    return re.findall(\".{2}\", s + \"_\")"
   ]
  },
  {
   "cell_type": "code",
   "execution_count": 49,
   "metadata": {},
   "outputs": [],
   "source": [
    "def solution(s):\n",
    "    return [s[x:x+2] if x < len(s) - 1 else s[-1] + \"_\" for x in range(0, len(s), 2)]"
   ]
  }
 ],
 "metadata": {
  "kernelspec": {
   "display_name": "Python 3",
   "language": "python",
   "name": "python3"
  },
  "language_info": {
   "codemirror_mode": {
    "name": "ipython",
    "version": 3
   },
   "file_extension": ".py",
   "mimetype": "text/x-python",
   "name": "python",
   "nbconvert_exporter": "python",
   "pygments_lexer": "ipython3",
   "version": "3.6.4"
  }
 },
 "nbformat": 4,
 "nbformat_minor": 2
}
