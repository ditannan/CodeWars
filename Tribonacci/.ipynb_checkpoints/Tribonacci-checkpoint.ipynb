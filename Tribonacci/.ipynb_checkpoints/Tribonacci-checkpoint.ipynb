{
 "cells": [
  {
   "cell_type": "markdown",
   "metadata": {},
   "source": [
    "# 生成一个Tribonacci数列\n",
    "\n",
    "## 题目level\n",
    "-6kyu\n",
    "\n",
    "## 题目描述\n",
    "- 给定数组前三个数,后面一个数为前三个数之和,依次可以生成一个数列,要求返回前n个数\n",
    "\n",
    "## 解题思路\n",
    "- 可以用生成器,跟Fibonacc有点像吧;\n",
    "\n",
    "## 解题代码"
   ]
  },
  {
   "cell_type": "code",
   "execution_count": 7,
   "metadata": {},
   "outputs": [],
   "source": [
    "def tribonacci(signature, n):\n",
    "    def gen():        \n",
    "        t = 0\n",
    "        a, b, c = signature[0], signature[1], signature[2]\n",
    "        while t < n:\n",
    "            yield a\n",
    "            a, b, c = b, c, a+b+c\n",
    "            t += 1\n",
    "    return [i for i in gen()]"
   ]
  },
  {
   "cell_type": "code",
   "execution_count": 8,
   "metadata": {},
   "outputs": [
    {
     "data": {
      "text/plain": [
       "[0, 0, 1, 1, 2, 4, 7, 13, 24, 44]"
      ]
     },
     "execution_count": 8,
     "metadata": {},
     "output_type": "execute_result"
    }
   ],
   "source": [
    "tribonacci([0, 0, 1], 10)"
   ]
  },
  {
   "cell_type": "markdown",
   "metadata": {},
   "source": [
    "- 别人家孩子的代码"
   ]
  },
  {
   "cell_type": "code",
   "execution_count": 9,
   "metadata": {},
   "outputs": [],
   "source": [
    "def tribonacci(signature, n):\n",
    "    res = signature[:n]\n",
    "    for i in range(n - 3): \n",
    "        res.append(sum(res[-3:]))\n",
    "    return res"
   ]
  },
  {
   "cell_type": "code",
   "execution_count": 18,
   "metadata": {},
   "outputs": [
    {
     "data": {
      "text/plain": [
       "[0, 0, 1, 1, 2, 4, 7, 13, 24, 44]"
      ]
     },
     "execution_count": 18,
     "metadata": {},
     "output_type": "execute_result"
    }
   ],
   "source": [
    "tribonacci([0, 0, 1], 10)"
   ]
  },
  {
   "cell_type": "markdown",
   "metadata": {},
   "source": [
    "## 总结\n",
    "别人家的孩子永远都是那么的厉害!多像别人家的孩子学习!"
   ]
  }
 ],
 "metadata": {
  "kernelspec": {
   "display_name": "Python 3",
   "language": "python",
   "name": "python3"
  },
  "language_info": {
   "codemirror_mode": {
    "name": "ipython",
    "version": 3
   },
   "file_extension": ".py",
   "mimetype": "text/x-python",
   "name": "python",
   "nbconvert_exporter": "python",
   "pygments_lexer": "ipython3",
   "version": "3.6.4"
  }
 },
 "nbformat": 4,
 "nbformat_minor": 2
}
